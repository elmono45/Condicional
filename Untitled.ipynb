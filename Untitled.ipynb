{
  "nbformat": 4,
  "nbformat_minor": 0,
  "metadata": {
    "colab": {
      "provenance": [],
      "authorship_tag": "ABX9TyMapIaDQwKU33emNF0FrYTs",
      "include_colab_link": true
    },
    "kernelspec": {
      "name": "python3",
      "display_name": "Python 3"
    },
    "language_info": {
      "name": "python"
    }
  },
  "cells": [
    {
      "cell_type": "markdown",
      "metadata": {
        "id": "view-in-github",
        "colab_type": "text"
      },
      "source": [
        "<a href=\"https://colab.research.google.com/github/elmono45/Condicional/blob/main/Untitled.ipynb\" target=\"_parent\"><img src=\"https://colab.research.google.com/assets/colab-badge.svg\" alt=\"Open In Colab\"/></a>"
      ]
    },
    {
      "cell_type": "markdown",
      "source": [],
      "metadata": {
        "id": "lymxmOeUEqzR"
      }
    },
    {
      "cell_type": "markdown",
      "source": [
        "## Problema: Cálculo del Precio de Boletas en el Cine\n",
        "\n",
        "Descripción del problema:\n",
        "Un cine local ofrece promociones en las entradas según el horario de la función. Las reglas para determinar el costo de las entradas son las siguientes:\n",
        "\n",
        "Para cualquier función antes de las 6:00 p.m., las entradas tienen los siguientes precios:\n",
        "\n",
        "  Niños: $5,000 COP.\n",
        "\n",
        "  Adultos: $7,500 COP.\n",
        "\n",
        "Para funciones después de las 6:00 p.m., el precio de la entrada es general:\n",
        "Entrada general: $10,000 COP por persona.\n",
        "\n",
        "Además, si el total de la compra supera los $50,000 COP, el cine regala una crispeta familiar.\n",
        "\n",
        "Entradas del problema:\n",
        "\n",
        "num_ninos: número de niños en el grupo.\n",
        "\n",
        "num_adultos: número de adultos en el grupo.\n",
        "\n",
        "hora_funcion: hora de la función en formato de 24 horas (por ejemplo, 14 para las 2 p.m., 19 para las 7 p.m.).\n",
        "\n",
        "\n",
        "Salidas esperadas:\n",
        "\n",
        "El total a pagar por las entradas.\n",
        "\n",
        "Si se obtiene o no la crispeta familiar.\n",
        "\n"
      ],
      "metadata": {
        "id": "nM2AaTzvEscm"
      }
    },
    {
      "cell_type": "markdown",
      "source": [
        "##algoritmo para determinar a pagar en el cine\n",
        "\n",
        "1. Iniciar\n",
        "2. Obtener el número de niños que entrará en la función\n",
        "3. Obtener el número de adultos que entrará en la función\n",
        "4. Obtener la hora de la función (0 - 24)\n",
        "5. Determinar el total dependiendo de la hora de la función:\n",
        "\n",
        "   Si la hora es menor a 18, entonces: total = num_ninos * 5000 + num_adultos * 7500\n",
        "\n",
        "   Si la hora es mayor o igual a 18, entonces: total = (num_ninos + num_adultos) * 10000\n",
        "\n",
        "6. Mostrar total\n",
        "7. Si el total es mayor a $50000, indicar que se han ganado una crispeta gratis\n",
        "8. Finalizar."
      ],
      "metadata": {
        "id": "R5PpZsOfB52C"
      }
    },
    {
      "cell_type": "markdown",
      "source": [
        "##pseudocodigo\n",
        "\n",
        "Program calcularEntradasCine\n",
        "Start\n",
        "\n",
        "\n",
        "\n",
        "    // Programa para calcular el total de las entradas a cine\n",
        "    Declare Int num_ninos\n",
        "    Declare Int num_adultos\n",
        "    Declare Int hora\n",
        "    Declare Float total\n",
        "\n",
        "    Display \"Ingrese el número de niños: \"\n",
        "    Input num_ninos\n",
        "    Display \"Ingrese el número de adultos: \"\n",
        "    Input num_adultos\n",
        "    Display \"Ingrese la hora de la función (0 - 23): \"\n",
        "    Input hora\n",
        "  \n",
        "    // Determinar el total a pagar dependiendo de la hora de la función\n",
        "    If hora < 18 Then\n",
        "      total = num_ninos * 5000 + num_adultos * 7500\n",
        "    Else\n",
        "      total = (num_ninos + num_adultos) * 10000\n",
        "    End If\n",
        "  \n",
        "    Display \"El total a pagar es \", total\n",
        "\n",
        "    // Determinar si el grupo se gana unas crispetas\n",
        "    If total > 50000 Then\n",
        "      Display \"Se ha ganado unas crispetas familiar.\"\n",
        "    End If\n",
        "  \n",
        "    Display \"Disfrute de la función :)\"\n",
        "\n",
        "End"
      ],
      "metadata": {
        "id": "asbKLXb1DGk-"
      }
    },
    {
      "cell_type": "code",
      "source": [
        "num_ninos = int(input(\"Ingrese el número de niños: \"))\n",
        "num_adultos = int(input(\"Ingrese el número de adultos: \"))\n",
        "hora = int(input(\"Ingrese la hora de la función (0 - 23): \"))\n",
        "\n",
        "if  hora < 18:\n",
        "   total = num_ninos * 5000 + num_adultos * 7500\n",
        "else:\n",
        "   total = (num_ninos + num_adultos) * 10000\n",
        "\n",
        "print(\"El total a pagar es $\", total)\n",
        "\n",
        "if total > 50000:\n",
        "   print(\"Se ha ganado unas crispetas familiar.\")\n",
        "\n",
        "print(\"Disfrute de la función :)\")"
      ],
      "metadata": {
        "id": "nsocg8mfEScp"
      },
      "execution_count": null,
      "outputs": []
    }
  ]
}